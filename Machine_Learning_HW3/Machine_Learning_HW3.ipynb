{
  "nbformat": 4,
  "nbformat_minor": 0,
  "metadata": {
    "colab": {
      "provenance": []
    },
    "kernelspec": {
      "name": "python3",
      "display_name": "Python 3"
    },
    "language_info": {
      "name": "python"
    },
    "gpuClass": "standard"
  },
  "cells": [
    {
      "cell_type": "markdown",
      "source": [
        "# File Upload"
      ],
      "metadata": {
        "id": "XDzF_cqQVb4w"
      }
    },
    {
      "cell_type": "code",
      "execution_count": null,
      "metadata": {
        "id": "Ybnus4A4VXYr",
        "colab": {
          "base_uri": "https://localhost:8080/",
          "height": 113
        },
        "outputId": "a96ec40a-5260-4e49-ff4d-ad2f59597a51"
      },
      "outputs": [
        {
          "output_type": "display_data",
          "data": {
            "text/plain": [
              "<IPython.core.display.HTML object>"
            ],
            "text/html": [
              "\n",
              "     <input type=\"file\" id=\"files-13df8032-1eef-4a01-a441-689f09742607\" name=\"files[]\" multiple disabled\n",
              "        style=\"border:none\" />\n",
              "     <output id=\"result-13df8032-1eef-4a01-a441-689f09742607\">\n",
              "      Upload widget is only available when the cell has been executed in the\n",
              "      current browser session. Please rerun this cell to enable.\n",
              "      </output>\n",
              "      <script>// Copyright 2017 Google LLC\n",
              "//\n",
              "// Licensed under the Apache License, Version 2.0 (the \"License\");\n",
              "// you may not use this file except in compliance with the License.\n",
              "// You may obtain a copy of the License at\n",
              "//\n",
              "//      http://www.apache.org/licenses/LICENSE-2.0\n",
              "//\n",
              "// Unless required by applicable law or agreed to in writing, software\n",
              "// distributed under the License is distributed on an \"AS IS\" BASIS,\n",
              "// WITHOUT WARRANTIES OR CONDITIONS OF ANY KIND, either express or implied.\n",
              "// See the License for the specific language governing permissions and\n",
              "// limitations under the License.\n",
              "\n",
              "/**\n",
              " * @fileoverview Helpers for google.colab Python module.\n",
              " */\n",
              "(function(scope) {\n",
              "function span(text, styleAttributes = {}) {\n",
              "  const element = document.createElement('span');\n",
              "  element.textContent = text;\n",
              "  for (const key of Object.keys(styleAttributes)) {\n",
              "    element.style[key] = styleAttributes[key];\n",
              "  }\n",
              "  return element;\n",
              "}\n",
              "\n",
              "// Max number of bytes which will be uploaded at a time.\n",
              "const MAX_PAYLOAD_SIZE = 100 * 1024;\n",
              "\n",
              "function _uploadFiles(inputId, outputId) {\n",
              "  const steps = uploadFilesStep(inputId, outputId);\n",
              "  const outputElement = document.getElementById(outputId);\n",
              "  // Cache steps on the outputElement to make it available for the next call\n",
              "  // to uploadFilesContinue from Python.\n",
              "  outputElement.steps = steps;\n",
              "\n",
              "  return _uploadFilesContinue(outputId);\n",
              "}\n",
              "\n",
              "// This is roughly an async generator (not supported in the browser yet),\n",
              "// where there are multiple asynchronous steps and the Python side is going\n",
              "// to poll for completion of each step.\n",
              "// This uses a Promise to block the python side on completion of each step,\n",
              "// then passes the result of the previous step as the input to the next step.\n",
              "function _uploadFilesContinue(outputId) {\n",
              "  const outputElement = document.getElementById(outputId);\n",
              "  const steps = outputElement.steps;\n",
              "\n",
              "  const next = steps.next(outputElement.lastPromiseValue);\n",
              "  return Promise.resolve(next.value.promise).then((value) => {\n",
              "    // Cache the last promise value to make it available to the next\n",
              "    // step of the generator.\n",
              "    outputElement.lastPromiseValue = value;\n",
              "    return next.value.response;\n",
              "  });\n",
              "}\n",
              "\n",
              "/**\n",
              " * Generator function which is called between each async step of the upload\n",
              " * process.\n",
              " * @param {string} inputId Element ID of the input file picker element.\n",
              " * @param {string} outputId Element ID of the output display.\n",
              " * @return {!Iterable<!Object>} Iterable of next steps.\n",
              " */\n",
              "function* uploadFilesStep(inputId, outputId) {\n",
              "  const inputElement = document.getElementById(inputId);\n",
              "  inputElement.disabled = false;\n",
              "\n",
              "  const outputElement = document.getElementById(outputId);\n",
              "  outputElement.innerHTML = '';\n",
              "\n",
              "  const pickedPromise = new Promise((resolve) => {\n",
              "    inputElement.addEventListener('change', (e) => {\n",
              "      resolve(e.target.files);\n",
              "    });\n",
              "  });\n",
              "\n",
              "  const cancel = document.createElement('button');\n",
              "  inputElement.parentElement.appendChild(cancel);\n",
              "  cancel.textContent = 'Cancel upload';\n",
              "  const cancelPromise = new Promise((resolve) => {\n",
              "    cancel.onclick = () => {\n",
              "      resolve(null);\n",
              "    };\n",
              "  });\n",
              "\n",
              "  // Wait for the user to pick the files.\n",
              "  const files = yield {\n",
              "    promise: Promise.race([pickedPromise, cancelPromise]),\n",
              "    response: {\n",
              "      action: 'starting',\n",
              "    }\n",
              "  };\n",
              "\n",
              "  cancel.remove();\n",
              "\n",
              "  // Disable the input element since further picks are not allowed.\n",
              "  inputElement.disabled = true;\n",
              "\n",
              "  if (!files) {\n",
              "    return {\n",
              "      response: {\n",
              "        action: 'complete',\n",
              "      }\n",
              "    };\n",
              "  }\n",
              "\n",
              "  for (const file of files) {\n",
              "    const li = document.createElement('li');\n",
              "    li.append(span(file.name, {fontWeight: 'bold'}));\n",
              "    li.append(span(\n",
              "        `(${file.type || 'n/a'}) - ${file.size} bytes, ` +\n",
              "        `last modified: ${\n",
              "            file.lastModifiedDate ? file.lastModifiedDate.toLocaleDateString() :\n",
              "                                    'n/a'} - `));\n",
              "    const percent = span('0% done');\n",
              "    li.appendChild(percent);\n",
              "\n",
              "    outputElement.appendChild(li);\n",
              "\n",
              "    const fileDataPromise = new Promise((resolve) => {\n",
              "      const reader = new FileReader();\n",
              "      reader.onload = (e) => {\n",
              "        resolve(e.target.result);\n",
              "      };\n",
              "      reader.readAsArrayBuffer(file);\n",
              "    });\n",
              "    // Wait for the data to be ready.\n",
              "    let fileData = yield {\n",
              "      promise: fileDataPromise,\n",
              "      response: {\n",
              "        action: 'continue',\n",
              "      }\n",
              "    };\n",
              "\n",
              "    // Use a chunked sending to avoid message size limits. See b/62115660.\n",
              "    let position = 0;\n",
              "    do {\n",
              "      const length = Math.min(fileData.byteLength - position, MAX_PAYLOAD_SIZE);\n",
              "      const chunk = new Uint8Array(fileData, position, length);\n",
              "      position += length;\n",
              "\n",
              "      const base64 = btoa(String.fromCharCode.apply(null, chunk));\n",
              "      yield {\n",
              "        response: {\n",
              "          action: 'append',\n",
              "          file: file.name,\n",
              "          data: base64,\n",
              "        },\n",
              "      };\n",
              "\n",
              "      let percentDone = fileData.byteLength === 0 ?\n",
              "          100 :\n",
              "          Math.round((position / fileData.byteLength) * 100);\n",
              "      percent.textContent = `${percentDone}% done`;\n",
              "\n",
              "    } while (position < fileData.byteLength);\n",
              "  }\n",
              "\n",
              "  // All done.\n",
              "  yield {\n",
              "    response: {\n",
              "      action: 'complete',\n",
              "    }\n",
              "  };\n",
              "}\n",
              "\n",
              "scope.google = scope.google || {};\n",
              "scope.google.colab = scope.google.colab || {};\n",
              "scope.google.colab._files = {\n",
              "  _uploadFiles,\n",
              "  _uploadFilesContinue,\n",
              "};\n",
              "})(self);\n",
              "</script> "
            ]
          },
          "metadata": {}
        },
        {
          "output_type": "stream",
          "name": "stdout",
          "text": [
            "Saving hw3_data.csv to hw3_data.csv\n",
            "User iploaded file \"hw3_data.csv\" with length 131370 bytes\n",
            "\n"
          ]
        }
      ],
      "source": [
        "from google.colab import files\n",
        "\n",
        "\n",
        "# csv file\n",
        "uploaded = files.upload()\n",
        "for f in uploaded.keys():\n",
        "    print('User iploaded file \"{name}\" with length {length} bytes\\n'.format(name = f, length = len(uploaded[f])))"
      ]
    },
    {
      "cell_type": "markdown",
      "source": [
        "# Task \n",
        "\n",
        "## Model: $y = f(x)$\n",
        "## Approach: Multi-Layer-Perceptron (MLP) Regressor"
      ],
      "metadata": {
        "id": "YjgmNen5V9Nz"
      }
    },
    {
      "cell_type": "markdown",
      "source": [
        "## 1. Read the .csv file and store the data into the dataframe "
      ],
      "metadata": {
        "id": "Xn4Q_dMTVrua"
      }
    },
    {
      "cell_type": "code",
      "source": [
        "import pandas as pd\n",
        "import matplotlib.pyplot as plt\n",
        "\n",
        "\n",
        "plt.figure(figsize=(10, 7))\n",
        "plt.title(\"Real Data\")\n",
        "\n",
        "data = pd.read_csv(\"./hw3_data.csv\").sort_values(by='x', axis=0)\n",
        "plt.scatter(data['x'], data['y'], color='blue', label=\"Data Set\")\n",
        "plt.xlabel('x')\n",
        "plt.ylabel('y')\n",
        "plt.legend()\n",
        "plt.show()"
      ],
      "metadata": {
        "id": "HTNiGhCeVsDT",
        "colab": {
          "base_uri": "https://localhost:8080/",
          "height": 458
        },
        "outputId": "ae645373-bc76-4aef-9ad5-119b576a5859"
      },
      "execution_count": null,
      "outputs": [
        {
          "output_type": "display_data",
          "data": {
            "text/plain": [
              "<Figure size 720x504 with 1 Axes>"
            ],
            "image/png": "[encoded data removed]"
          },
          "metadata": {
            "needs_background": "light"
          }
        }
      ]
    },
    {
      "cell_type": "markdown",
      "source": [
        "## 2. Define the perceptron used in the multi-layer perceptron (MLP)"
      ],
      "metadata": {
        "id": "kxAC8JszdrFR"
      }
    },
    {
      "cell_type": "markdown",
      "source": [
        "### 2.1 Define Activation Functions"
      ],
      "metadata": {
        "id": "dkVzGj3jvIdR"
      }
    },
    {
      "cell_type": "code",
      "source": [
        "import numpy as np\n",
        "\n",
        "\n",
        "# Sigmoid\n",
        "class Sigmoid:\n",
        "    def forward(self, x):\n",
        "        return 1.0 / (1.0 + np.exp(-x))\n",
        "\n",
        "    def derivate(self, x):\n",
        "        return (1 - self.forward(x)) * self.forward(x)\n",
        "\n",
        "\n",
        "# Relu\n",
        "class Relu:\n",
        "    def forward(self, x):\n",
        "        return np.where(x > 0, x, 0.0)\n",
        "\n",
        "    def derivate(self, x):\n",
        "        return np.where(x > 0, 1.0, 0.0)\n",
        "\n",
        "\n",
        "# Hyperbolic Tangent\n",
        "class Tanh:\n",
        "    def forward(self, x):\n",
        "        return np.tanh(x)\n",
        "\n",
        "    def derivate(self, x):\n",
        "        return 1 - np.tanh(x) ** 2\n",
        "\n",
        "\n",
        "# Identity\n",
        "class Identity:\n",
        "    def forward(self, x):\n",
        "        return x\n",
        "\n",
        "    def derivate(self, x):\n",
        "        return 1"
      ],
      "metadata": {
        "id": "zl4BjfN3kG-b"
      },
      "execution_count": null,
      "outputs": []
    },
    {
      "cell_type": "markdown",
      "source": [
        "### 2.2 Define Initializer"
      ],
      "metadata": {
        "id": "Pl1lgIp6wbQx"
      }
    },
    {
      "cell_type": "code",
      "source": [
        "import numpy as np\n",
        "\n",
        "\n",
        "# Randomly generates the weights and bias\n",
        "class Rand:\n",
        "    def initialize(self, layer):\n",
        "        w = np.random.randn(layer.input_dim, layer.output_dim)\n",
        "        b = np.random.randn(1, layer.output_dim)\n",
        "        dw = np.zeros([layer.input_dim, layer.output_dim])\n",
        "        db = np.zeros([1, layer.output_dim])\n",
        "        return w, b, dw, db"
      ],
      "metadata": {
        "id": "xeEvMxe9wd1U"
      },
      "execution_count": null,
      "outputs": []
    },
    {
      "cell_type": "markdown",
      "source": [
        "### 2.3 Define Layer"
      ],
      "metadata": {
        "id": "xlo3cNthxAAa"
      }
    },
    {
      "cell_type": "code",
      "source": [
        "import numpy as np\n",
        "\n",
        "\n",
        "# Dense layer\n",
        "class Dense:\n",
        "    def __init__(self, units= None, activation=None, input_dim=None, initializer=Rand(), initialize=False):\n",
        "        self.w = None   # weight\n",
        "        self.b = None   # bias\n",
        "        self.z = None   # input\n",
        "        self.a = None   # output\n",
        "        self.d = None   # derivative\n",
        "        self.dw = None  # derivative of weight\n",
        "        self.db = None  # derivative of bias\n",
        "\n",
        "        self.output_dim = units         # number of output\n",
        "        self.input_dim = input_dim      # number of input\n",
        "        self.activation = activation    # activation function\n",
        "        self.initializer = initializer  # initializer of the layer\n",
        "\n",
        "        if initialize:\n",
        "            self.reset_layer()\n",
        "\n",
        "\n",
        "    # Initialize the weights and bias of layer\n",
        "    def reset_layer(self):\n",
        "        w, b, dw, db = self.initializer.initialize(self)\n",
        "        self.w = w\n",
        "        self.b = b\n",
        "        self.dw = dw\n",
        "        self.db = db\n",
        "\n",
        "\n",
        "    # Forward operation\n",
        "    def forward(self, x, update=True):\n",
        "        z = np.matmul(x, self.w) + self.b\n",
        "        a = self.activation.forward(z)\n",
        "        if update:\n",
        "            self.z = z\n",
        "            self.a = a\n",
        "        return a\n",
        "\n",
        "\n",
        "    # Update the derivative of weight and bias for the layer\n",
        "    def update_delta(self, next_layer):\n",
        "        d = np.matmul(next_layer.d, next_layer.w.T) * self.activation.derivate(self.z)\n",
        "        self.d = d\n",
        "\n",
        "\n",
        "    #  Update the weight and bias for the layer\n",
        "    def update_gradients(self, a_in):\n",
        "        d_out = self.d\n",
        "        self.db = d_out.sum(axis=0).reshape([1, -1])\n",
        "        self.dw = np.matmul(a_in.T, d_out)"
      ],
      "metadata": {
        "id": "IU2LIFNvxCEO"
      },
      "execution_count": null,
      "outputs": []
    },
    {
      "cell_type": "markdown",
      "source": [
        "### 2.4 Define Loss"
      ],
      "metadata": {
        "id": "2aXSbPgDzIjy"
      }
    },
    {
      "cell_type": "code",
      "source": [
        "import numpy as np\n",
        "\n",
        "\n",
        "# Loss function -> mean squared error (MSE)\n",
        "class MSE:\n",
        "    def loss_type(self):\n",
        "        return \"mse\"\n",
        "\n",
        "    def forward(self, actual, prediction):\n",
        "        return 0.5 * ((prediction - actual) ** 2)\n",
        "\n",
        "    def derivate(self, actual, prediction):\n",
        "        return prediction - actual"
      ],
      "metadata": {
        "id": "oraldypJzK2d"
      },
      "execution_count": null,
      "outputs": []
    },
    {
      "cell_type": "markdown",
      "source": [
        "### 2.5 Define Optimizer"
      ],
      "metadata": {
        "id": "L2bcNAN-GbY-"
      }
    },
    {
      "cell_type": "code",
      "source": [
        "import numpy as np\n",
        "\n",
        "\n",
        "# General optimizer for gradient descent algorithm\n",
        "class GradientDescent:\n",
        "    def __init__(self, learning_rate=0.001):\n",
        "        self.learning_rate = learning_rate\n",
        "\n",
        "    # Initialize the parameters\n",
        "    def initialize_parameters(self, layers):\n",
        "        return layers\n",
        "\n",
        "    # Update weights of the layer\n",
        "    def update_weights(self, layers):\n",
        "        for i in range(len(layers)):\n",
        "            layers[i].w = layers[i].w - self.learning_rate * layers[i].dw\n",
        "            layers[i].b = layers[i].b - self.learning_rate * layers[i].db\n",
        "        return layers\n",
        "\n",
        "\n",
        "# Adam optimizer -> used to optimize the layer with random weight and bias\n",
        "class Adam:\n",
        "    def __init__(self, learning_rate=0.001):\n",
        "        self.t = 1\n",
        "        self.b1 = 0.9\n",
        "        self.b2 = 0.999\n",
        "        self.epsilon = 1e-8\n",
        "        self.learning_rate = learning_rate\n",
        "\n",
        "    # Initialize the parameters in the Adam optimizer\n",
        "    def initialize_parameters(self, layers):\n",
        "        for i, layer in enumerate(layers):\n",
        "            adam = {\n",
        "                \"mw\": np.zeros([layer.input_dim, layer.output_dim]),\n",
        "                \"mb\": np.zeros([1, layer.output_dim]),\n",
        "                \"vw\": np.zeros([layer.input_dim, layer.output_dim]),\n",
        "                \"vb\": np.zeros([1, layer.output_dim]),\n",
        "            }\n",
        "            layers[i].adam = adam\n",
        "\n",
        "        return layers\n",
        "\n",
        "\n",
        "    # Update the weight of the layer with the Adam parameters\n",
        "    def update_weights(self, layers):\n",
        "        t = self.t\n",
        "        for i, layer in enumerate(layers):\n",
        "            adam = {\n",
        "                \"mw\": (self.b1 * layer.adam[\"mw\"] + (1 - self.b1) * layer.dw),\n",
        "                \"mb\": (self.b1 * layer.adam[\"mb\"] + (1 - self.b1) * layer.db),\n",
        "                \"vw\": (self.b2 * layer.adam[\"vw\"] + (1 - self.b2) * layer.dw ** 2),\n",
        "                \"vb\": (self.b2 * layer.adam[\"vb\"] + (1 - self.b2) * layer.db ** 2)\n",
        "            }\n",
        "\n",
        "            layer.adam = adam\n",
        "            mw_corrected = adam[\"mw\"] / (1 - (self.b1 ** t))\n",
        "            mb_corrected = adam[\"mb\"] / (1 - (self.b1 ** t))\n",
        "            vw_corrected = adam[\"vw\"] / (1 - (self.b2 ** t))\n",
        "            vb_corrected = adam[\"vb\"] / (1 - (self.b2 ** t))\n",
        "\n",
        "            layer.w = layer.w - (self.learning_rate * mw_corrected / (np.sqrt(vw_corrected) + self.epsilon))\n",
        "            layer.b = layer.b - (self.learning_rate * mb_corrected / (np.sqrt(vb_corrected) + self.epsilon))\n",
        "            layers[i] = layer\n",
        "\n",
        "        self.t = t + 1\n",
        "        return layers"
      ],
      "metadata": {
        "id": "pCV5VsizGb2e"
      },
      "execution_count": null,
      "outputs": []
    },
    {
      "cell_type": "markdown",
      "source": [
        "### 2.6 Define Model"
      ],
      "metadata": {
        "id": "gbdJeNdbziH5"
      }
    },
    {
      "cell_type": "code",
      "source": [
        "import numpy as np\n",
        "\n",
        "\n",
        "# Multi-layer perceptron model\n",
        "class MLPRegressor:\n",
        "    def __init__(self):\n",
        "        self.layers = []        # List of layers\n",
        "        self.n_layers = 0       # Number of layers\n",
        "        self.trainer = None     # Trainer\n",
        "        self.train_log = None   # Log generated from the trainer\n",
        "\n",
        "\n",
        "    # Add the layer to the MLP model\n",
        "    def add(self, layer):\n",
        "        if len(self.layers) > 0:\n",
        "            layer.input_dim = self.layers[-1].output_dim\n",
        "        \n",
        "        layer.reset_layer()\n",
        "        self.layers.append(layer)\n",
        "        self.n_layers += 1\n",
        "\n",
        "    # Predict output from the input\n",
        "    def predict(self, x):\n",
        "        pred = self.forward_prop(x, update=False)\n",
        "        return pred\n",
        "\n",
        "\n",
        "    # Train the MLP model\n",
        "    def train(self, loss, train_data, optimizer=Adam(), params=None):\n",
        "        self.trainer = ModelTrain()\n",
        "        self.trainer.train(self, loss, train_data, optimizer, params)\n",
        "\n",
        "\n",
        "    # Forward propagation\n",
        "    def forward_prop(self, x, update=True):\n",
        "        a = x\n",
        "        for layer in self.layers:\n",
        "            a = layer.forward(a, update=update)\n",
        "        return a\n",
        "\n",
        "\n",
        "    # Back propagation\n",
        "    def back_prop(self, x, y, loss):\n",
        "        self.update_deltas(loss, y)\n",
        "        self.update_gradients(x)\n",
        "\n",
        "\n",
        "    # Update the derivatives of weight and bias in the layers\n",
        "    def update_deltas(self, loss, y):\n",
        "        for i, layer in enumerate(reversed(self.layers)):\n",
        "            if i == 0:\n",
        "                d = loss.derivate(y, layer.a) * layer.activation.derivate(layer.z)\n",
        "                layer.d = d\n",
        "            else:\n",
        "                layer_next = self.layers[-i]\n",
        "                layer.update_delta(layer_next)\n",
        "\n",
        "\n",
        "    # Update the weight and bias in the layers\n",
        "    def update_gradients(self, x):\n",
        "        for i, layer in enumerate(self.layers):\n",
        "            if i == 0:\n",
        "                a_in = x\n",
        "            else:\n",
        "                prev_layer = self.layers[i - 1]\n",
        "                a_in = prev_layer.a\n",
        "            layer.update_gradients(a_in)\n",
        "            \n",
        "\n",
        "    def reset_layers(self):\n",
        "        for layer in self.layers:\n",
        "            layer.reset_layer()"
      ],
      "metadata": {
        "id": "u5KRyLHozhv_"
      },
      "execution_count": null,
      "outputs": []
    },
    {
      "cell_type": "markdown",
      "source": [
        "### 2.7 Define Batcher"
      ],
      "metadata": {
        "id": "FSCk2sMp3pSB"
      }
    },
    {
      "cell_type": "code",
      "source": [
        "import numpy as np\n",
        "\n",
        "\n",
        "# Batcher that generates the batch for the training\n",
        "class Batcher:\n",
        "    def __init__(self, data, batch_size, shuffle_on_reset= False):\n",
        "        self.data = data\n",
        "        self.batch_size = batch_size\n",
        "        self.shuffle_on_reset = shuffle_on_reset\n",
        "\n",
        "        if type(data) == list:\n",
        "            self.data_size = data[0].shape[0]\n",
        "        else:\n",
        "            self.data_size = data.shape[0]\n",
        "\n",
        "        self.n_batches = int(np.ceil(self.data_size / self.batch_size))\n",
        "        self.idx = np.arange(0, self.data_size, dtype=int)\n",
        "        if shuffle_on_reset:\n",
        "            np.random.shuffle(self.idx)\n",
        "        self.current = 0\n",
        "\n",
        "\n",
        "    # Shuffle the index\n",
        "    def shuffle(self):\n",
        "        np.random.shuffle(self.idx)\n",
        "\n",
        "\n",
        "    # Reset the batcher\n",
        "    def reset(self):\n",
        "        if self.shuffle_on_reset:\n",
        "            self.shuffle()\n",
        "        self.current = 0\n",
        "\n",
        "\n",
        "    # Select the next batch for the training\n",
        "    def next(self):\n",
        "        batch = []\n",
        "        i_select = self.idx[(self.current * self.batch_size) : ((self.current + 1) * self.batch_size)]\n",
        "        for elem in self.data:\n",
        "            batch.append(elem[i_select])\n",
        "\n",
        "        if self.current < (self.n_batches - 1):\n",
        "            self.current = self.current + 1\n",
        "        else:\n",
        "            self.reset()\n",
        "\n",
        "        return batch"
      ],
      "metadata": {
        "id": "kdVMLVSS3qMM"
      },
      "execution_count": null,
      "outputs": []
    },
    {
      "cell_type": "markdown",
      "source": [
        "### 2.8 Define Trainer"
      ],
      "metadata": {
        "id": "2CQ6YPtH2fHv"
      }
    },
    {
      "cell_type": "code",
      "source": [
        "import numpy as np\n",
        "import pandas as pd\n",
        "\n",
        "\n",
        "# Trainer parameters\n",
        "default_params = {\n",
        "    \"verbose\": True,\n",
        "    \"n_epoch\": 10000,\n",
        "    \"batch_size\": 200,\n",
        "    \"print_rate\": 1000,\n",
        "    \"learning_rate\": 0.5\n",
        "}\n",
        "\n",
        "\n",
        "# Model trainer\n",
        "class ModelTrain:\n",
        "    def __init__(self, params=None):\n",
        "        self.batcher = None                 # Batcher\n",
        "        self.optimizer = None               # Optimizer\n",
        "        self.train_params = default_params  # Training parameters\n",
        "\n",
        "\n",
        "    # Train the given model with the optimizer and batcher\n",
        "    def train(self, model, loss, train_data, optimizer=Adam(), params=None):\n",
        "        self.optimizer = optimizer\n",
        "        model.layers = self.optimizer.initialize_parameters(model.layers)\n",
        "\n",
        "        if self.batcher is None:\n",
        "            self.batcher = Batcher(train_data, self.train_params[\"batch_size\"])\n",
        "\n",
        "        epoch = 1\n",
        "        verbose = self.train_params[\"verbose\"]\n",
        "\n",
        "        train_loss = []\n",
        "        model.train_log = []\n",
        "        while epoch <= self.train_params[\"n_epoch\"]:\n",
        "            self.batcher.reset()\n",
        "\n",
        "            for batch_i in range(self.batcher.n_batches):\n",
        "                batch = self.batcher.next()\n",
        "                x_batch = batch[0]\n",
        "                y_batch = batch[1]\n",
        "\n",
        "                self.train_step(model, x_batch, y_batch, loss)\n",
        "\n",
        "                loss_i = self.compute_loss(model.layers[-1].a, y_batch, loss)\n",
        "                train_loss.append(loss_i)\n",
        "                model.train_log.append(np.array([epoch, batch_i, loss_i]))\n",
        "\n",
        "            if verbose and (epoch % self.train_params[\"print_rate\"] == 0):\n",
        "                print(f\"epoch: {epoch}\\t|\\ttrain_loss: {np.mean(train_loss)}\")\n",
        "            epoch += 1\n",
        "\n",
        "        model.train_log = np.vstack(model.train_log)\n",
        "        model.train_log = pd.DataFrame(model.train_log, columns=[\"epoch\", \"iter\", \"loss\"])\n",
        "\n",
        "\n",
        "    # Performs a single training step\n",
        "    def train_step(self, model, x, y, loss):\n",
        "        _ = model.forward_prop(x)\n",
        "        model.back_prop(x, y, loss)\n",
        "        model.layers = self.optimizer.update_weights(model.layers)\n",
        "\n",
        "\n",
        "    # Compute the loss from the forward operation in current model\n",
        "    def compute_loss(self, actual, prediction, loss):\n",
        "        current_loss = loss.forward(actual, prediction)\n",
        "        return current_loss.mean()"
      ],
      "metadata": {
        "id": "Gh9wFeby2fbr"
      },
      "execution_count": null,
      "outputs": []
    },
    {
      "cell_type": "markdown",
      "source": [
        "## 3. Main"
      ],
      "metadata": {
        "id": "76QN2Yk_Gpju"
      }
    },
    {
      "cell_type": "code",
      "source": [
        "# Reshape the x and y data to fit them into the model\n",
        "# For the henced prediction, we have to normalize the x data\n",
        "x = np.array(data['x']).reshape(5000, 1)\n",
        "y = ((np.array(data['y']) + 15) * 0.1).reshape(5000, 1)\n",
        "\n",
        "# Generate the MLP regressor with the dense layers\n",
        "model = MLPRegressor()\n",
        "model.add(Dense(units=4, activation=Tanh(), input_dim=x.shape[1]))\n",
        "model.add(Dense(units=8, activation=Tanh()))\n",
        "model.add(Dense(units=4, activation=Tanh()))\n",
        "model.add(Dense(units=1, activation=Identity()))\n",
        "\n",
        "# Select the loss function and perform training\n",
        "loss = MSE()\n",
        "model.train(loss, train_data=[x, y])\n",
        "\n",
        "# Plot the real data and predicted result\n",
        "plt.figure(figsize=(10, 7))\n",
        "plt.title(\"Real Data\")\n",
        "\n",
        "plt.scatter(x, model.predict(x) * 10 - 15, color='red', label=\"Data Set\")\n",
        "plt.scatter(x, y * 10 - 15, color='blue', label=\"Real Set\")\n",
        "plt.xlabel('x')\n",
        "plt.ylabel('y')\n",
        "plt.legend()\n",
        "plt.show()"
      ],
      "metadata": {
        "id": "nMsy4z9SGpKU",
        "colab": {
          "base_uri": "https://localhost:8080/",
          "height": 641
        },
        "outputId": "848ae737-2fe8-443b-f3bb-5ec243cd1899"
      },
      "execution_count": null,
      "outputs": [
        {
          "output_type": "stream",
          "name": "stdout",
          "text": [
            "epoch: 1000\t|\ttrain_loss: 0.006994446498562625\n",
            "epoch: 2000\t|\ttrain_loss: 0.0038342761403908476\n",
            "epoch: 3000\t|\ttrain_loss: 0.0026251606811314057\n",
            "epoch: 4000\t|\ttrain_loss: 0.002016497487805202\n",
            "epoch: 5000\t|\ttrain_loss: 0.0016498115370155908\n",
            "epoch: 6000\t|\ttrain_loss: 0.0014043770081865101\n",
            "epoch: 7000\t|\ttrain_loss: 0.0012288445923681428\n",
            "epoch: 8000\t|\ttrain_loss: 0.001097038956557121\n",
            "epoch: 9000\t|\ttrain_loss: 0.0009944176442828775\n",
            "epoch: 10000\t|\ttrain_loss: 0.0009122446103984005\n"
          ]
        },
        {
          "output_type": "display_data",
          "data": {
            "text/plain": [
              "<Figure size 720x504 with 1 Axes>"
            ],
            "image/png": "[encoded data removed]"
          },
          "metadata": {
            "needs_background": "light"
          }
        }
      ]
    },
    {
      "cell_type": "code",
      "source": [],
      "metadata": {
        "id": "m6UsDMI_Oyli"
      },
      "execution_count": null,
      "outputs": []
    }
  ]
}